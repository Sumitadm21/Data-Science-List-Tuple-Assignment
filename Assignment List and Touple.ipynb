{
 "cells": [
  {
   "cell_type": "code",
   "execution_count": 287,
   "metadata": {},
   "outputs": [],
   "source": [
    "#Coded By Sumit Kumar - sumitadm21@gmail.com\n",
    "#Student_Marks\n",
    "student_marks =[\n",
    "                ['Name',   ['A','B','C','D','E']],\n",
    "                ['Ankit',  [41 ,34 , 45, 55, 63]],\n",
    "                ['Aravind',[42 ,23 , 34, 44, 53]],\n",
    "                ['Lakshay',[32 ,23 , 13, 54, 67]],\n",
    "                ['Gyan',   [23 ,82 , 23, 63, 34]],\n",
    "                ['Pranav', [21 ,23 , 25, 56, 56]],\n",
    "               ]"
   ]
  },
  {
   "cell_type": "code",
   "execution_count": 288,
   "metadata": {},
   "outputs": [
    {
     "data": {
      "text/plain": [
       "[['Name', ['A', 'B', 'C', 'D', 'E']],\n",
       " ['Ankit', [41, 34, 45, 55, 63]],\n",
       " ['Aravind', [42, 23, 34, 44, 53]],\n",
       " ['Lakshay', [32, 23, 13, 54, 67]],\n",
       " ['Gyan', [23, 82, 23, 63, 34]],\n",
       " ['Pranav', [21, 23, 25, 56, 56]]]"
      ]
     },
     "execution_count": 288,
     "metadata": {},
     "output_type": "execute_result"
    }
   ],
   "source": [
    "student_marks"
   ]
  },
  {
   "cell_type": "code",
   "execution_count": 289,
   "metadata": {},
   "outputs": [
    {
     "name": "stdout",
     "output_type": "stream",
     "text": [
      "Highest Marks In Subject-B Is Scored By -  Gyan\n"
     ]
    }
   ],
   "source": [
    "#1__Who scored the highest marks in the subject B?\n",
    "# list to store the marks\n",
    "student_with_marks_in_B = []\n",
    "\n",
    "for students in student_marks[1:]:\n",
    "    name = students[0]\n",
    "    marks_in_B = students[1][1]\n",
    "    \n",
    "    student_with_marks_in_B.append([marks_in_B,name])\n",
    "#print(\"Students With Marks In Subject B = \",student_with_marks_in_B)\n",
    "#print(\"Sorted Students List With Marks In Subject B = \",sorted(student_with_marks_in_B))\n",
    "print(\"Highest Marks In Subject-B Is Scored By - \",sorted(student_with_marks_in_B)[-1][1])"
   ]
  },
  {
   "cell_type": "code",
   "execution_count": 290,
   "metadata": {},
   "outputs": [
    {
     "name": "stdout",
     "output_type": "stream",
     "text": [
      "The average marks scored in the subject C =  28.0\n"
     ]
    }
   ],
   "source": [
    "#2__What is the average marks scored in the subject C?\n",
    "student_with_marks_in_C = []\n",
    "for students in student_marks[1:]:\n",
    "    name = students[0]\n",
    "    marks_in_C = students[1][2]\n",
    "    \n",
    "    student_with_marks_in_C.append(marks_in_C)\n",
    "#print(\"Student Marks In Subject C = \",student_with_marks_in_C)\n",
    "sum_of_marks_in_subject_C = sum(student_with_marks_in_C)\n",
    "#print(\"Sum Of All Students Marks In Subject C = \",sum_of_marks_in_subject_C)\n",
    "Average = sum_of_marks_in_subject_C/5\n",
    "print(\"The average marks scored in the subject C = \",Average)"
   ]
  },
  {
   "cell_type": "code",
   "execution_count": 291,
   "metadata": {},
   "outputs": [
    {
     "name": "stdout",
     "output_type": "stream",
     "text": [
      "Printing Students Total Marks and Percentage -  Ankit  --  238  --  47 %\n",
      "Printing Students Total Marks and Percentage -  Aravind  --  196  --  39 %\n",
      "Printing Students Total Marks and Percentage -  Lakshay  --  189  --  37 %\n",
      "Printing Students Total Marks and Percentage -  Gyan  --  225  --  45 %\n",
      "Printing Students Total Marks and Percentage -  Pranav  --  181  --  36 %\n",
      "--------------------------------------------------------------------------\n",
      "Highest Percentage Is  47 % Scored By  Ankit .\n"
     ]
    }
   ],
   "source": [
    "#3__Who scored the highest percentage of marks?\n",
    "sum_of_all_sub_of_a_student = []\n",
    "student_percentage = []\n",
    "student_with_percentage = []\n",
    "sorted_percent = 0\n",
    "a=0\n",
    "for students in student_marks[1:]:\n",
    "    name = students[0]\n",
    "    student_all_marks = students[1][:]\n",
    "    sum_of_all_sub_of_a_student.append( sum(student_all_marks))\n",
    "    \n",
    "    student_percentage.append((sum_of_all_sub_of_a_student[a]/500)*100)\n",
    "    print(\"Printing Students Total Marks and Percentage - \",name,\" -- \",sum_of_all_sub_of_a_student[a],\" -- \",int(student_percentage[a]),\"%\")\n",
    "    student_with_percentage.append([int(student_percentage[a]),name])\n",
    "    a+=1\n",
    "print(\"--------------------------------------------------------------------------\")\n",
    "#print(student_with_percentage)\n",
    "sorted_percent = sorted(student_with_percentage)\n",
    "#print(sorted_percent)\n",
    "print(\"Highest Percentage Is \",sorted_percent[-1][0],\"% Scored By \",sorted_percent[-1][1],\".\")"
   ]
  },
  {
   "cell_type": "code",
   "execution_count": 294,
   "metadata": {},
   "outputs": [
    {
     "name": "stdout",
     "output_type": "stream",
     "text": [
      "-------------------------------------------------------------------------------------\n",
      "Highest Percentage Is  51 % Scored By  Ankit .\n"
     ]
    }
   ],
   "source": [
    "#4__If considered only top-4 subjects of a candidate, then who scored the highest percentage of marks?\n",
    "student_marks\n",
    "all_student_marks = []\n",
    "all_student_marks_sorted = []\n",
    "sum_of_all4_sub_of_a_student = []\n",
    "sum_of_top4_sub = []\n",
    "student_percentage = []\n",
    "student_name_with_percentage = []\n",
    "s4 = []\n",
    "sorted_percent = []\n",
    "a=0\n",
    "for students in student_marks[1:]:\n",
    "    name = students[0]\n",
    "    all_student_marks.append([students[1][:],name])\n",
    "    all_student_marks_sorted.append([all_student_marks[-1][1],sorted(all_student_marks[-1][0])])\n",
    "    s4.append([all_student_marks_sorted[-1][1][-1],all_student_marks_sorted[-1][1][-2],all_student_marks_sorted[-1][1][-3],all_student_marks_sorted[-1][1][-4]])\n",
    "    sum_of_all4_sub_of_a_student.append(sum([all_student_marks_sorted[-1][1][-1],all_student_marks_sorted[-1][1][-2],all_student_marks_sorted[-1][1][-3],all_student_marks_sorted[-1][1][-4]]))\n",
    "    sum_of_top4_sub.append([name,sum_of_all4_sub_of_a_student[-1]])\n",
    "    student_percentage.append((sum_of_all4_sub_of_a_student[-1]/400)*100)\n",
    "    student_name_with_percentage.append([int(student_percentage[a]),name])\n",
    "    a+=1\n",
    "#print(sum_of_top4_sub)\n",
    "#print(student_percentage)\n",
    "print(\"-------------------------------------------------------------------------------------\")\n",
    "#print(student_with_percentage\n",
    "sorted_percent = sorted(student_name_with_percentage)\n",
    "#print(sorted_percent)\n",
    "print(\"Highest Percentage Is \",sorted_percent[-1][0],\"% Scored By \",sorted_percent[-1][1],\".\")"
   ]
  },
  {
   "cell_type": "code",
   "execution_count": null,
   "metadata": {},
   "outputs": [],
   "source": []
  }
 ],
 "metadata": {
  "kernelspec": {
   "display_name": "Python 3",
   "language": "python",
   "name": "python3"
  },
  "language_info": {
   "codemirror_mode": {
    "name": "ipython",
    "version": 3
   },
   "file_extension": ".py",
   "mimetype": "text/x-python",
   "name": "python",
   "nbconvert_exporter": "python",
   "pygments_lexer": "ipython3",
   "version": "3.7.4"
  }
 },
 "nbformat": 4,
 "nbformat_minor": 4
}
